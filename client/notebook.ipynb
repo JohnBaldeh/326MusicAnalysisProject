{
 "cells": [
  {
   "cell_type": "code",
   "execution_count": 3,
   "metadata": {},
   "outputs": [
    {
     "name": "stdout",
     "output_type": "stream",
     "text": [
      "5\n",
      "hello world\n"
     ]
    }
   ],
   "source": [
    "import pandas as pd\n",
    "import os"
   ]
  },
  {
   "cell_type": "code",
   "execution_count": null,
   "metadata": {},
   "outputs": [],
   "source": [
    "#General Data Imports, Variable Storage\n",
    "\n",
    "working_dir = os.path.dirname(__file__)\n",
    "\n",
    "# read csv files with all 200 songs for each country and store in array\n",
    "canada_songs = pd.read_csv(os.path.join(working_dir, \"../database/Canada/Shazam Top 100 Dance 25-04-2022.csv\"))\n",
    "mexico_songs = pd.read_csv(os.path.join(working_dir, \"../database/Mexico/Shazam Top 200 Mexico Chart 25-04-2022.csv\"))\n",
    "united_states_songs = pd.read_csv(os.path.join(working_dir, \"../database/United_States/Shazam_Top_200_United_States_Chart_25-04-2022.csv\"))\n",
    "countries = [canada_songs, mexico_songs, united_states_songs]\n",
    "\n",
    "# list all genres in each country with the pathname to the csv files with their songs\n",
    "canada_genres = {\n",
    "    \"Dance\": os.path.join(working_dir, \"../database/Canada/Shazam Top 100 Dance 25-04-2022.csv\"),\n",
    "    \"Hip-Hop Rap\": os.path.join(working_dir, \"../database/Canada/Shazam Top 100 Hip-Hop_Rap 25-04-2022.csv\"),\n",
    "    \"Pop\": os.path.join(working_dir, \"../database/Canada/Shazam Top 100 Pop 25-04-2022.csv\")\n",
    "}\n",
    "\n",
    "mexico_genres = {\n",
    "    \"Dance\": os.path.join(working_dir, \"../database/Mexico/Shazam Top 100 Dance 28-04-2022.csv\"),\n",
    "    \"Hip-Hop Rap\": os.path.join(working_dir, \"../database/Mexico/Shazam Top 100 Hip-Hop_Rap 28-04-2022.csv\"),\n",
    "    \"Pop\": os.path.join(working_dir, \"../database/Mexico/Shazam Top 100 Pop 28-04-2022.csv\")\n",
    "}\n",
    "\n",
    "united_states = {\n",
    "    \"Dance\": os.path.join(working_dir, \"../database/United_States/Shazam_Top_100_Dance_25-04-2022.csv\"),\n",
    "    \"Hip-Hop Rap\": os.path.join(working_dir, \"../database/United_States/Shazam_Top_100_Hip-Hop_Rap_25-04-2022.csv\"),\n",
    "    \"Pop\": os.path.join(working_dir, \"../database/United_States/Shazam_Top_100_Pop_25-04-2022.csv\"),\n",
    "    \"Country\": os.path.join(working_dir, \"../database/United_States/Shazam_Top_100_Country_25-04-2022.csv\"),\n",
    "}\n",
    "\n",
    "# store all country genres in array\n",
    "country_genres = [canada_genres, mexico_genres, united_states]\n",
    "\n",
    "# store country name in array to find sub-folders to store results later\n",
    "country_name = [\"Canada\", \"Mexico\", \"United_States\"]"
   ]
  },
  {
   "cell_type": "code",
   "execution_count": null,
   "metadata": {},
   "outputs": [],
   "source": [
    "# start iteration at Canada (index 0)\n",
    "index = 0\n",
    "for country in countries:\n",
    "    # get only Artist and Title columns\n",
    "    main_extract = country.loc[:, [\"Artist\", \"Title\"]]\n",
    "\n",
    "    # get list of genres of that country from the genres array\n",
    "    genres = country_genres[index]\n",
    "\n",
    "    # new array with second dimension of \"Artists\", \"Title\" , \"Genre\" to store values\n",
    "    new_array = [[], [], []]\n",
    "\n",
    "    # iterate through all songs in \"200 songs\" csv file\n",
    "    for song in main_extract.values:\n",
    "\n",
    "        # iterate through all csv files in each genre\n",
    "        for genre_name, file_name in genres.items():\n",
    "\n",
    "            # extract only artist and title\n",
    "            genre_extract = pd.read_csv(file_name).loc[:, [\"Artist\", \"Title\"]]\n",
    "\n",
    "            # iterate through each song and compare with main csv file, if they match, append to 2d-array\n",
    "            for x in genre_extract.values:\n",
    "                if (song == x).all():\n",
    "                    new_array[0].append(x[0])\n",
    "                    new_array[1].append(x[1])\n",
    "                    new_array[2].append(genre_name)\n",
    "\n",
    "    # create data frame from 2d-array\n",
    "    final_data_frame = pd.DataFrame({\n",
    "        \"Artist\": new_array[0],\n",
    "        \"Title\": new_array[1],\n",
    "        \"Genre\": new_array[2]\n",
    "    })\n",
    "\n",
    "    # save data frame to csv file, directory depends on country name\n",
    "    final_data_frame.to_csv(os.path.join(working_dir, f\"../database/{country_name[index]}/{country_name[index]}Results.csv\"))\n",
    "\n",
    "    # increment the index to go to the next country\n",
    "    index += 1"
   ]
  }
 ],
 "metadata": {
  "interpreter": {
   "hash": "aee8b7b246df8f9039afb4144a1f6fd8d2ca17a180786b69acc140d282b71a49"
  },
  "kernelspec": {
   "display_name": "Python 3.10.2 64-bit",
   "language": "python",
   "name": "python3"
  },
  "language_info": {
   "codemirror_mode": {
    "name": "ipython",
    "version": 3
   },
   "file_extension": ".py",
   "mimetype": "text/x-python",
   "name": "python",
   "nbconvert_exporter": "python",
   "pygments_lexer": "ipython3",
   "version": "3.10.2"
  },
  "orig_nbformat": 4
 },
 "nbformat": 4,
 "nbformat_minor": 2
}
